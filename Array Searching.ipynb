{
 "cells": [
  {
   "cell_type": "markdown",
   "metadata": {},
   "source": [
    "Linear Searching"
   ]
  },
  {
   "cell_type": "code",
   "execution_count": 1,
   "metadata": {},
   "outputs": [
    {
     "name": "stdout",
     "output_type": "stream",
     "text": [
      "Index of the item is  5\n"
     ]
    }
   ],
   "source": [
    "def linearsearching(array,item):\n",
    "    for i in range(len(array)):\n",
    "        if item==array[i]:\n",
    "            return i\n",
    "    return -1\n",
    "array=[21,12,2,12,554,24,234,51]\n",
    "item=24\n",
    "index=linearsearching(array,item)\n",
    "if index==-1:\n",
    "    print(\"Item not found\")\n",
    "else :\n",
    "    print(\"Index of the item is \",index)"
   ]
  },
  {
   "cell_type": "markdown",
   "metadata": {},
   "source": [
    "Binary Search"
   ]
  },
  {
   "cell_type": "code",
   "execution_count": 2,
   "metadata": {},
   "outputs": [
    {
     "name": "stdout",
     "output_type": "stream",
     "text": [
      "Index of the item is  14\n"
     ]
    }
   ],
   "source": [
    "def binarysearching(array,item):\n",
    "    left=0\n",
    "    right=len(array)-1\n",
    "    while left<=right:\n",
    "        mid=(left+right)//2\n",
    "        if array[mid]==item:\n",
    "            return mid\n",
    "        elif array[mid]<item:\n",
    "            left+=1\n",
    "        else :\n",
    "            right+=1\n",
    "    return -1\n",
    "array=[1212,8,6,2,12,12,2,22,2,345,16,75,65,7554,7,5,5,4,6,4,4,34]\n",
    "item=7\n",
    "index=binarysearching(array,item)\n",
    "if index==-1:\n",
    "    print(\"Item not found\")\n",
    "else :\n",
    "    print(\"Index of the item is \",index)\n",
    "    "
   ]
  }
 ],
 "metadata": {
  "kernelspec": {
   "display_name": "Python 3",
   "language": "python",
   "name": "python3"
  },
  "language_info": {
   "codemirror_mode": {
    "name": "ipython",
    "version": 3
   },
   "file_extension": ".py",
   "mimetype": "text/x-python",
   "name": "python",
   "nbconvert_exporter": "python",
   "pygments_lexer": "ipython3",
   "version": "3.12.3"
  }
 },
 "nbformat": 4,
 "nbformat_minor": 2
}
