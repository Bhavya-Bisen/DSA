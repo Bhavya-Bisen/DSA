{
 "cells": [
  {
   "cell_type": "markdown",
   "metadata": {},
   "source": [
    "Find The Lowest Value in an Array"
   ]
  },
  {
   "cell_type": "code",
   "execution_count": null,
   "metadata": {},
   "outputs": [],
   "source": [
    "L=[212,4,12,12,12,3,123,12]\n",
    "d=L[0]\n",
    "for i in L:\n",
    "    if i<=d:\n",
    "        d=i\n",
    "\n",
    "print(d)"
   ]
  },
  {
   "cell_type": "markdown",
   "metadata": {},
   "source": [
    "Bubble Sort"
   ]
  },
  {
   "cell_type": "code",
   "execution_count": null,
   "metadata": {},
   "outputs": [],
   "source": [
    "L=[212,4,12,12,12,3,123,12]\n",
    "for i in range(len(L)-1):\n",
    "    for j in range(len(L)-i-1):\n",
    "        if L[j+1]<L[j]:\n",
    "            L[j],L[j+1]=L[j+1],L[j]\n",
    "\n",
    "print(L)"
   ]
  },
  {
   "cell_type": "markdown",
   "metadata": {},
   "source": [
    "Bubble Sort with efficiency"
   ]
  },
  {
   "cell_type": "code",
   "execution_count": null,
   "metadata": {},
   "outputs": [],
   "source": [
    "L=[212,4,12,12,12,3,123,12]\n",
    "for i in range(len(L)-1):\n",
    "    swapped=False\n",
    "    for j in range(len(L)-i-1):\n",
    "        if L[j+1]<L[j]:\n",
    "            L[j],L[j+1]=L[j+1],L[j]\n",
    "            swapped=True\n",
    "    if swapped==False:\n",
    "        break\n",
    "\n",
    "\n",
    "print(L)"
   ]
  },
  {
   "cell_type": "markdown",
   "metadata": {},
   "source": [
    "Selection Sort"
   ]
  },
  {
   "cell_type": "code",
   "execution_count": null,
   "metadata": {},
   "outputs": [],
   "source": [
    "L=[212,4,12,12,12,3,123,12]\n",
    "for i in range(len(L)-1):\n",
    "    swapped=False\n",
    "    for j in range(i+1,len(L)):\n",
    "        if L[j]<L[i]:\n",
    "            L[i],L[j]=L[j],L[i]\n",
    "            swapped=True\n",
    "    if swapped==False:\n",
    "        break\n",
    "\n",
    "print(L)"
   ]
  },
  {
   "cell_type": "markdown",
   "metadata": {},
   "source": [
    "Insertion Sort"
   ]
  },
  {
   "cell_type": "code",
   "execution_count": null,
   "metadata": {},
   "outputs": [],
   "source": [
    "L=[212,4,12,12,12,3,123,12]\n",
    "for i in range(1,len(L)):\n",
    "    index=i\n",
    "    current_value=L[i]    \n",
    "    for j in range(i-1,-1,-1):\n",
    "        if current_value<L[j]:\n",
    "            L[j+1]=L[j]\n",
    "            index=j\n",
    "    L[index]=current_value\n",
    "\n",
    "print(L)"
   ]
  },
  {
   "cell_type": "markdown",
   "metadata": {},
   "source": [
    "Quick Sort"
   ]
  },
  {
   "cell_type": "code",
   "execution_count": null,
   "metadata": {},
   "outputs": [],
   "source": [
    "def part(array,Low,High):\n",
    "    pivot=array[High]\n",
    "    i=Low-1\n",
    "    for j in range(Low,High):\n",
    "        if array[j] <= pivot:\n",
    "            i=i+1\n",
    "            array[i],array[j]=array[j],array[i]\n",
    "    array[i+1], array[High] = array[High], array[i+1]\n",
    "    return i+1\n",
    "\n",
    "def quicksort(array,Low=0,High=None):\n",
    "    if High==None :\n",
    "        High=len(array)-1\n",
    "    \n",
    "    if Low<High:\n",
    "        pivot=part(array,Low,High)\n",
    "        quicksort(array,Low,pivot-1)\n",
    "        quicksort(array,pivot+1,High)\n",
    "\n",
    "L=[212,4,12,12,12,3,123,12]\n",
    "quicksort(L)\n",
    "print(L)"
   ]
  },
  {
   "cell_type": "markdown",
   "metadata": {},
   "source": [
    "Counting Sort\n"
   ]
  },
  {
   "cell_type": "code",
   "execution_count": null,
   "metadata": {},
   "outputs": [],
   "source": [
    "def countingsort(array):\n",
    "    maxi=max(array)\n",
    "    countarray=[0]*(maxi+1)\n",
    "    print(countarray)\n",
    "    while len(array) > 0:\n",
    "        num = array.pop(0)\n",
    "        countarray[num] += 1\n",
    "        print(countarray)\n",
    "    print(countarray)\n",
    "    for i in range(len(countarray)):\n",
    "        while countarray[i]>0:\n",
    "            array.append(i)\n",
    "            countarray[i]-=1\n",
    "    \n",
    "array=[2,2,1,5,3,2]\n",
    "countingsort(array)\n",
    "print(array)"
   ]
  },
  {
   "cell_type": "markdown",
   "metadata": {},
   "source": [
    "Radix Sorting"
   ]
  },
  {
   "cell_type": "code",
   "execution_count": null,
   "metadata": {},
   "outputs": [],
   "source": [
    "L=[212,4,12,12,12,3,123,12]\n",
    "R=[[],[],[],[],[],[],[],[],[],[]]\n",
    "exp=1\n",
    "maxi=max(L)\n",
    "while maxi//exp >0:\n",
    "    while len(L) > 0:\n",
    "        val = L.pop()\n",
    "        radixIndex = (val // exp) % 10\n",
    "        R[radixIndex].append(val)\n",
    "\n",
    "    for bucket in R:\n",
    "        while len(bucket) > 0:\n",
    "            val = bucket.pop()\n",
    "            L.append(val)\n",
    "    exp*=10\n",
    "print(L)"
   ]
  },
  {
   "cell_type": "markdown",
   "metadata": {},
   "source": [
    "Merge Sort"
   ]
  },
  {
   "cell_type": "code",
   "execution_count": null,
   "metadata": {},
   "outputs": [],
   "source": [
    "def mergesort(L):\n",
    "    if ((len(L))<=1):\n",
    "        return L\n",
    "    mid=len(L)//2\n",
    "    left=L[:mid]\n",
    "    right=L[mid:]\n",
    "    l=mergesort(left)\n",
    "    r=mergesort(right)\n",
    "    return merge(l,r)\n",
    "def merge(left,right):\n",
    "    R=[]\n",
    "    i=j=0\n",
    "    while i<len(left) and j<len(right):\n",
    "        if left[i]<right[j]:\n",
    "            R.append(left[i])\n",
    "            i+=1\n",
    "        else :\n",
    "            R.append(right[j])\n",
    "            j+=1\n",
    "    R.extend(left[i:])\n",
    "    R.extend(right[j:])\n",
    "    return R\n",
    "L=[212,4,12,12,12,3,123,12]\n",
    "L=mergesort(L)\n",
    "print(L)"
   ]
  }
 ],
 "metadata": {
  "kernelspec": {
   "display_name": "Python 3",
   "language": "python",
   "name": "python3"
  },
  "language_info": {
   "codemirror_mode": {
    "name": "ipython",
    "version": 3
   },
   "file_extension": ".py",
   "mimetype": "text/x-python",
   "name": "python",
   "nbconvert_exporter": "python",
   "pygments_lexer": "ipython3",
   "version": "3.12.3"
  }
 },
 "nbformat": 4,
 "nbformat_minor": 2
}
