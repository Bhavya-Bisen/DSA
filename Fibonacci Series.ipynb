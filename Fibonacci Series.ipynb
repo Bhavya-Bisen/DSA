{
 "cells": [
  {
   "cell_type": "markdown",
   "metadata": {},
   "source": [
    "Implementation Using a For Loop"
   ]
  },
  {
   "cell_type": "code",
   "execution_count": 1,
   "metadata": {},
   "outputs": [
    {
     "name": "stdout",
     "output_type": "stream",
     "text": [
      "0\n",
      "1\n",
      "1\n",
      "2\n",
      "3\n",
      "5\n",
      "8\n",
      "13\n",
      "21\n",
      "34\n",
      "55\n",
      "89\n",
      "144\n",
      "233\n",
      "377\n",
      "610\n",
      "987\n",
      "1597\n",
      "2584\n",
      "4181\n"
     ]
    }
   ],
   "source": [
    "f_n=0\n",
    "s_n=1\n",
    "cunt=0\n",
    "for i in range(20):\n",
    "    print(f_n)\n",
    "    n=f_n+s_n\n",
    "    f_n=s_n\n",
    "    s_n=n"
   ]
  },
  {
   "cell_type": "markdown",
   "metadata": {},
   "source": [
    "Implementation Using Recursion"
   ]
  },
  {
   "cell_type": "code",
   "execution_count": 2,
   "metadata": {},
   "outputs": [
    {
     "name": "stdout",
     "output_type": "stream",
     "text": [
      "0\n",
      "1\n",
      "1\n",
      "2\n",
      "3\n",
      "5\n",
      "8\n",
      "13\n",
      "21\n",
      "34\n",
      "55\n",
      "89\n",
      "144\n",
      "233\n",
      "377\n",
      "610\n",
      "987\n",
      "1597\n",
      "2584\n",
      "4181\n"
     ]
    }
   ],
   "source": [
    "def fab(f_n,s_n):\n",
    "    global cunt\n",
    "    print(f_n)\n",
    "    n=f_n+s_n\n",
    "    f_n=s_n\n",
    "    s_n=n\n",
    "    if (cunt>= 19) :\n",
    "        return\n",
    "    else :\n",
    "        cunt=cunt+1\n",
    "        fab(f_n,s_n)\n",
    "\n",
    "f_n=0\n",
    "s_n=1\n",
    "cunt=0\n",
    "fab(f_n,s_n)"
   ]
  },
  {
   "cell_type": "markdown",
   "metadata": {},
   "source": [
    "Finding the Fibonacci Number till the nth term Using Recursion"
   ]
  },
  {
   "cell_type": "code",
   "execution_count": 3,
   "metadata": {},
   "outputs": [
    {
     "name": "stdout",
     "output_type": "stream",
     "text": [
      "0\n",
      "1\n",
      "1\n",
      "2\n",
      "3\n",
      "5\n",
      "8\n",
      "13\n",
      "21\n",
      "34\n",
      "55\n",
      "89\n"
     ]
    }
   ],
   "source": [
    "def fab(f_n,s_n):\n",
    "    global cunt\n",
    "    global cont\n",
    "    print(f_n)\n",
    "    n=f_n+s_n\n",
    "    f_n=s_n\n",
    "    s_n=n\n",
    "    if (cont>= cunt) :\n",
    "        return\n",
    "    else :\n",
    "        cont=cont+1\n",
    "        fab(f_n,s_n)\n",
    "\n",
    "f_n=0\n",
    "s_n=1\n",
    "cont=0\n",
    "cunt=int(input(\"Enter the nth term:\"))\n",
    "fab(f_n,s_n)"
   ]
  },
  {
   "cell_type": "markdown",
   "metadata": {},
   "source": [
    "Finding the nth term of the Fibonacci Number till the nth term using Recursion"
   ]
  },
  {
   "cell_type": "code",
   "execution_count": 6,
   "metadata": {},
   "outputs": [
    {
     "name": "stdout",
     "output_type": "stream",
     "text": [
      "75025\n"
     ]
    }
   ],
   "source": [
    "def F(n):\n",
    "    if n<=1:\n",
    "        return n\n",
    "    else :\n",
    "        return (F(n-1) + F(n-2))\n",
    "\n",
    "print(F(25))"
   ]
  }
 ],
 "metadata": {
  "kernelspec": {
   "display_name": "Python 3",
   "language": "python",
   "name": "python3"
  },
  "language_info": {
   "codemirror_mode": {
    "name": "ipython",
    "version": 3
   },
   "file_extension": ".py",
   "mimetype": "text/x-python",
   "name": "python",
   "nbconvert_exporter": "python",
   "pygments_lexer": "ipython3",
   "version": "3.12.3"
  }
 },
 "nbformat": 4,
 "nbformat_minor": 2
}
